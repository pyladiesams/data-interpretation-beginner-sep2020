{
 "cells": [
  {
   "cell_type": "markdown",
   "metadata": {},
   "source": [
    "<h1>Data Interpretation and Storytelling</h1>\n",
    "    <p>Authored and presented by <a href=\"https://www.iwi.unibe.ch/ueber_uns/personen/prof_dr_khobzi_hamid/index_ger.html\">Prof. Dr. Hamid Khobzi</a> from the Universtiy of Bern for PyLadies, Amsterdam on 30.09.2020.</p>\n",
    "    <p>The link to the data resource: <a href=\"https://archive.ics.uci.edu/ml/datasets/Online+Retail+II\">Click Here.</a></p>\n",
    "    <h2>Business Problem</h2>"
   ]
  },
  {
   "cell_type": "markdown",
   "metadata": {},
   "source": [
    "<p>In this exercise, the focus is on a business case from a real online retail store based in UK. As the CIO of the company has declared to the data science team, the goal of the project is to find hidden patterns and insights from data that can help business with better targeting strategies.</p>\n",
    "<p>You, as a member of the data science team, are provided with a dataset that contains purchase transactions of the retail store. The first challenge is to conduct exploratory data analysis using data transformation and visualization. To serve this purpose, the data science team has decided to use a particular conceptual framework, namely RFM, to conduct the analysis and interpret the data. RFM Analysis is a conceptually-based analysis that sheds light on behavioral characteristics of customers/users, and is open for interpretation in different contexts. RFM stands for:<p>\n",
    "<ul>\n",
    "    <li><b>(R) Recency:</b> The interval between the purchase and the time of analysis.</li>\n",
    "<li><b>(F) Frequency:</b> The number of purchases within a certain period.</li>\n",
    "<li><b>(M) Monetary:</b> The amount of money spent during a certain period.</li>\n",
    "</ul>\n",
    "\n",
    "<p>The second challenge is to generate information in the form of visualizations and tables, that can contribute to a suitable storytelling.</p>\n",
    "<p>With all that being said, let's begin the analysis!</p>"
   ]
  },
  {
   "cell_type": "markdown",
   "metadata": {},
   "source": [
    "<h2>Reading Data</h2>"
   ]
  },
  {
   "cell_type": "markdown",
   "metadata": {},
   "source": [
    "<p>We need to load pandas library for data wrangling. Pandas is a Python library that allows us to work with data structures and perform various operations on them. Afterward, we should use a pandas method to read the data for further processing.</p>"
   ]
  },
  {
   "cell_type": "code",
   "execution_count": 257,
   "metadata": {},
   "outputs": [],
   "source": [
    "import pandas as pd\n",
    "\n",
    "org_data = pd.read_csv('online_retail_v2.0.csv')\n"
   ]
  },
  {
   "cell_type": "markdown",
   "metadata": {},
   "source": [
    "<p>Let's take a look at the data by showing the first 3 records.</p>"
   ]
  },
  {
   "cell_type": "code",
   "execution_count": 258,
   "metadata": {},
   "outputs": [
    {
     "data": {
      "text/html": [
       "<div>\n",
       "<style scoped>\n",
       "    .dataframe tbody tr th:only-of-type {\n",
       "        vertical-align: middle;\n",
       "    }\n",
       "\n",
       "    .dataframe tbody tr th {\n",
       "        vertical-align: top;\n",
       "    }\n",
       "\n",
       "    .dataframe thead th {\n",
       "        text-align: right;\n",
       "    }\n",
       "</style>\n",
       "<table border=\"1\" class=\"dataframe\">\n",
       "  <thead>\n",
       "    <tr style=\"text-align: right;\">\n",
       "      <th></th>\n",
       "      <th>Invoice</th>\n",
       "      <th>StockCode</th>\n",
       "      <th>Description</th>\n",
       "      <th>Quantity</th>\n",
       "      <th>InvoiceDate</th>\n",
       "      <th>Price</th>\n",
       "      <th>Customer ID</th>\n",
       "      <th>Country</th>\n",
       "    </tr>\n",
       "  </thead>\n",
       "  <tbody>\n",
       "    <tr>\n",
       "      <th>0</th>\n",
       "      <td>536365</td>\n",
       "      <td>85123A</td>\n",
       "      <td>WHITE HANGING HEART T-LIGHT HOLDER</td>\n",
       "      <td>6</td>\n",
       "      <td>2010-12-01 08:26:00</td>\n",
       "      <td>2.55</td>\n",
       "      <td>17850.0</td>\n",
       "      <td>United Kingdom</td>\n",
       "    </tr>\n",
       "    <tr>\n",
       "      <th>1</th>\n",
       "      <td>536365</td>\n",
       "      <td>71053</td>\n",
       "      <td>WHITE METAL LANTERN</td>\n",
       "      <td>6</td>\n",
       "      <td>2010-12-01 08:26:00</td>\n",
       "      <td>3.39</td>\n",
       "      <td>17850.0</td>\n",
       "      <td>United Kingdom</td>\n",
       "    </tr>\n",
       "    <tr>\n",
       "      <th>2</th>\n",
       "      <td>536365</td>\n",
       "      <td>84406B</td>\n",
       "      <td>CREAM CUPID HEARTS COAT HANGER</td>\n",
       "      <td>8</td>\n",
       "      <td>2010-12-01 08:26:00</td>\n",
       "      <td>2.75</td>\n",
       "      <td>17850.0</td>\n",
       "      <td>United Kingdom</td>\n",
       "    </tr>\n",
       "  </tbody>\n",
       "</table>\n",
       "</div>"
      ],
      "text/plain": [
       "  Invoice StockCode                         Description  Quantity  \\\n",
       "0  536365    85123A  WHITE HANGING HEART T-LIGHT HOLDER         6   \n",
       "1  536365     71053                 WHITE METAL LANTERN         6   \n",
       "2  536365    84406B      CREAM CUPID HEARTS COAT HANGER         8   \n",
       "\n",
       "           InvoiceDate  Price  Customer ID         Country  \n",
       "0  2010-12-01 08:26:00   2.55      17850.0  United Kingdom  \n",
       "1  2010-12-01 08:26:00   3.39      17850.0  United Kingdom  \n",
       "2  2010-12-01 08:26:00   2.75      17850.0  United Kingdom  "
      ]
     },
     "execution_count": 258,
     "metadata": {},
     "output_type": "execute_result"
    }
   ],
   "source": [
    "org_data.head(3)"
   ]
  },
  {
   "cell_type": "markdown",
   "metadata": {},
   "source": [
    "<p>Question: What part of this data could be useful for generating insights?<p>"
   ]
  },
  {
   "cell_type": "markdown",
   "metadata": {},
   "source": [
    "<h2>Data Cleansing</h2>\n",
    "\n",
    "<p>Since the data was stored as a CSV file, the values need to be converted from a string to their natural type. For instance:</p>\n",
    "<ul>\n",
    "    <li>\"Quantity\" should be converted to an integer number.</li>\n",
    "    <li>\"Price\" should be converted to a float number.</li>\n",
    "    <li>\"InvoiceDate\" should be converted to a datetime format.</li>\n",
    "</ul>"
   ]
  },
  {
   "cell_type": "code",
   "execution_count": 259,
   "metadata": {},
   "outputs": [],
   "source": [
    "org_data['Quantity'] = org_data['Quantity'].astype('int64')                                        #converting Quantity to an integer number\n",
    "org_data['InvoiceDate'] = pd.to_datetime(org_data['InvoiceDate'], format='%Y-%m-%d %H:%M:%S')      #converting InvoiceDate to a datetime format"
   ]
  },
  {
   "cell_type": "markdown",
   "metadata": {},
   "source": [
    "<h3>Exercise:</h3>"
   ]
  },
  {
   "cell_type": "markdown",
   "metadata": {},
   "source": [
    "<p>Now, you may try to convert the attribute \"Price\" to a data type float.</p>"
   ]
  },
  {
   "cell_type": "code",
   "execution_count": 260,
   "metadata": {},
   "outputs": [],
   "source": [
    "org_data['Price'] = org_data['Price'].astype('float')                                              #converting Price to an float number"
   ]
  },
  {
   "cell_type": "markdown",
   "metadata": {},
   "source": [
    "<p>In the next step, to make sure there is no missing values in the data, we exclude any record of data that contains a missing value for any of the data attributes.</p>"
   ]
  },
  {
   "cell_type": "code",
   "execution_count": 261,
   "metadata": {},
   "outputs": [],
   "source": [
    "org_data = org_data.dropna(how='any', axis='rows')"
   ]
  },
  {
   "cell_type": "markdown",
   "metadata": {},
   "source": [
    "<p>Now, we need to inspect the data for any existing problem. For this purpose, we can draw a box plot for variables to check their distribution, outliers, or any other issues. A box plot is a very useful visualization technique for inspecting the data and finding potential problems. Now, we must load pyplot API, which is a Matlab-like plotting framework, to be able to visualize the data using box plots.<p>"
   ]
  },
  {
   "cell_type": "code",
   "execution_count": 305,
   "metadata": {},
   "outputs": [
    {
     "data": {
      "text/plain": [
       "Text(0, 0.5, 'Order Quantity')"
      ]
     },
     "execution_count": 305,
     "metadata": {},
     "output_type": "execute_result"
    },
    {
     "data": {
      "image/png": "[encoded data removed]",
      "text/plain": [
       "<Figure size 432x288 with 1 Axes>"
      ]
     },
     "metadata": {
      "needs_background": "light"
     },
     "output_type": "display_data"
    }
   ],
   "source": [
    "import matplotlib.pyplot as plt\n",
    "\n",
    "plt.boxplot(org_data['Quantity'])\n",
    "plt.ylabel('Order Quantity')"
   ]
  },
  {
   "cell_type": "markdown",
   "metadata": {},
   "source": [
    "<h3>Exercise:</h3>\n",
    "<p>Now, you may try to visualize the attribute \"Price\" by using a box plot.</p> "
   ]
  },
  {
   "cell_type": "code",
   "execution_count": 263,
   "metadata": {},
   "outputs": [
    {
     "data": {
      "text/plain": [
       "Text(0, 0.5, 'Product Price')"
      ]
     },
     "execution_count": 263,
     "metadata": {},
     "output_type": "execute_result"
    },
    {
     "data": {
      "image/png": "[encoded data removed]",
      "text/plain": [
       "<Figure size 432x288 with 1 Axes>"
      ]
     },
     "metadata": {},
     "output_type": "display_data"
    }
   ],
   "source": [
    "plt.boxplot(org_data['Price'])\n",
    "plt.ylabel('Product Price')"
   ]
  },
  {
   "cell_type": "markdown",
   "metadata": {},
   "source": [
    "<p>We can observe two major problems for both variables. First, both variables contain negative values, while order quantity and product price cannot be negative or zero. Second, there are outliers in the data that is better to be excluded from the analysis.<p> "
   ]
  },
  {
   "cell_type": "code",
   "execution_count": 264,
   "metadata": {},
   "outputs": [],
   "source": [
    "CleanData = org_data[org_data.Quantity>0]                                         #Keeping data records with a value of higher than 0 for Quantity\n",
    "CleanData = CleanData[CleanData.Price>0]                                          #Keeping data records with a value of higher than 0 for Price\n",
    "CleanData = CleanData[CleanData.Quantity < org_data['Quantity'].quantile(0.9)]    #Erasing (triming) outliers based on Quantity\n",
    "CleanData = CleanData[CleanData.Price < org_data[\"Price\"].quantile(0.9)]          #Erasing (triming) outliers based on Price"
   ]
  },
  {
   "cell_type": "markdown",
   "metadata": {},
   "source": [
    "<h2>Data Transformation for RFM Analysis</h2>\n",
    "\n",
    "<p>Now that the data is cleansed, it is time to prepare the data for RFM analysis. Accordingly, we need to transform our data. In other words, we need to generate new attributes in the data based on the existing attributes.</p>\n",
    "<p>First, we need to generate a new attribute that shows how many days ago the transaction was performed. So, we need to generate this new attribute based on \"InoviceDate.\" In the first step, we only keep the date and store it in a new column called \"Date.\" Then, we calculate the interval between the transaction date and the date of the last transaction in the data in terms of days.</p>\n",
    "<p>Second, we need to generate another attribute that shows the amount of sales for each transaction. We already have the order quantity and the product price in the data. So, we need to multiply those two values and store the outcome in a new attribute called \"Sales.\"</p>"
   ]
  },
  {
   "cell_type": "code",
   "execution_count": 265,
   "metadata": {},
   "outputs": [],
   "source": [
    "#storing transaction date in a new attribute\n",
    "CleanData['Date'] = CleanData['InvoiceDate'].dt.date    \n",
    "#calculating and storing interval between transaction date and the day in which the last transaction was done in a new attribute\n",
    "CleanData['PurchaseInterval'] = (max(CleanData.Date) - CleanData['Date']).dt.days  "
   ]
  },
  {
   "cell_type": "markdown",
   "metadata": {},
   "source": [
    "<h3>Exercise:</h3>\n",
    "<p>Now, you may try to generate the Sales from the existing attributes including order quantity and product price.</p> "
   ]
  },
  {
   "cell_type": "code",
   "execution_count": 266,
   "metadata": {},
   "outputs": [],
   "source": [
    "#calculating and storing sales amount for each transaction in a new attribute\n",
    "CleanData['Sales'] = CleanData.Quantity * CleanData.Price"
   ]
  },
  {
   "cell_type": "markdown",
   "metadata": {},
   "source": [
    "<p>All right! Let's take a look at the data.</p>"
   ]
  },
  {
   "cell_type": "code",
   "execution_count": 267,
   "metadata": {},
   "outputs": [
    {
     "data": {
      "text/html": [
       "<div>\n",
       "<style scoped>\n",
       "    .dataframe tbody tr th:only-of-type {\n",
       "        vertical-align: middle;\n",
       "    }\n",
       "\n",
       "    .dataframe tbody tr th {\n",
       "        vertical-align: top;\n",
       "    }\n",
       "\n",
       "    .dataframe thead th {\n",
       "        text-align: right;\n",
       "    }\n",
       "</style>\n",
       "<table border=\"1\" class=\"dataframe\">\n",
       "  <thead>\n",
       "    <tr style=\"text-align: right;\">\n",
       "      <th></th>\n",
       "      <th>Invoice</th>\n",
       "      <th>StockCode</th>\n",
       "      <th>Description</th>\n",
       "      <th>Quantity</th>\n",
       "      <th>InvoiceDate</th>\n",
       "      <th>Price</th>\n",
       "      <th>Customer ID</th>\n",
       "      <th>Country</th>\n",
       "      <th>Date</th>\n",
       "      <th>PurchaseInterval</th>\n",
       "      <th>Sales</th>\n",
       "    </tr>\n",
       "  </thead>\n",
       "  <tbody>\n",
       "    <tr>\n",
       "      <th>0</th>\n",
       "      <td>536365</td>\n",
       "      <td>85123A</td>\n",
       "      <td>WHITE HANGING HEART T-LIGHT HOLDER</td>\n",
       "      <td>6</td>\n",
       "      <td>2010-12-01 08:26:00</td>\n",
       "      <td>2.55</td>\n",
       "      <td>17850.0</td>\n",
       "      <td>United Kingdom</td>\n",
       "      <td>2010-12-01</td>\n",
       "      <td>373</td>\n",
       "      <td>15.30</td>\n",
       "    </tr>\n",
       "    <tr>\n",
       "      <th>1</th>\n",
       "      <td>536365</td>\n",
       "      <td>71053</td>\n",
       "      <td>WHITE METAL LANTERN</td>\n",
       "      <td>6</td>\n",
       "      <td>2010-12-01 08:26:00</td>\n",
       "      <td>3.39</td>\n",
       "      <td>17850.0</td>\n",
       "      <td>United Kingdom</td>\n",
       "      <td>2010-12-01</td>\n",
       "      <td>373</td>\n",
       "      <td>20.34</td>\n",
       "    </tr>\n",
       "    <tr>\n",
       "      <th>2</th>\n",
       "      <td>536365</td>\n",
       "      <td>84406B</td>\n",
       "      <td>CREAM CUPID HEARTS COAT HANGER</td>\n",
       "      <td>8</td>\n",
       "      <td>2010-12-01 08:26:00</td>\n",
       "      <td>2.75</td>\n",
       "      <td>17850.0</td>\n",
       "      <td>United Kingdom</td>\n",
       "      <td>2010-12-01</td>\n",
       "      <td>373</td>\n",
       "      <td>22.00</td>\n",
       "    </tr>\n",
       "  </tbody>\n",
       "</table>\n",
       "</div>"
      ],
      "text/plain": [
       "  Invoice StockCode                         Description  Quantity  \\\n",
       "0  536365    85123A  WHITE HANGING HEART T-LIGHT HOLDER         6   \n",
       "1  536365     71053                 WHITE METAL LANTERN         6   \n",
       "2  536365    84406B      CREAM CUPID HEARTS COAT HANGER         8   \n",
       "\n",
       "          InvoiceDate  Price  Customer ID         Country        Date  \\\n",
       "0 2010-12-01 08:26:00   2.55      17850.0  United Kingdom  2010-12-01   \n",
       "1 2010-12-01 08:26:00   3.39      17850.0  United Kingdom  2010-12-01   \n",
       "2 2010-12-01 08:26:00   2.75      17850.0  United Kingdom  2010-12-01   \n",
       "\n",
       "   PurchaseInterval  Sales  \n",
       "0               373  15.30  \n",
       "1               373  20.34  \n",
       "2               373  22.00  "
      ]
     },
     "execution_count": 267,
     "metadata": {},
     "output_type": "execute_result"
    }
   ],
   "source": [
    "CleanData.head(3)"
   ]
  },
  {
   "cell_type": "markdown",
   "metadata": {},
   "source": [
    "<p>Now, we need to aggregate the data based on customers and find out when they have done their last transaction, how many transactions they have performed, and how much they have spent in the online retail store in the whole time.</p> Then, we store these newly generated attributes for further analysis.</p>"
   ]
  },
  {
   "cell_type": "code",
   "execution_count": 268,
   "metadata": {},
   "outputs": [],
   "source": [
    "RFM_Data = CleanData.groupby('Customer ID').agg(Recency=('PurchaseInterval','min'), Frequency=('Sales','count'), Monetary=('Sales','sum'))\n"
   ]
  },
  {
   "cell_type": "markdown",
   "metadata": {},
   "source": [
    "<h3>Exercise:</h3>\n",
    "<p>Now, you may try to inspect the first three rows in the newly generated dataset for RFM attributes.</p> "
   ]
  },
  {
   "cell_type": "code",
   "execution_count": 269,
   "metadata": {},
   "outputs": [
    {
     "data": {
      "text/html": [
       "<div>\n",
       "<style scoped>\n",
       "    .dataframe tbody tr th:only-of-type {\n",
       "        vertical-align: middle;\n",
       "    }\n",
       "\n",
       "    .dataframe tbody tr th {\n",
       "        vertical-align: top;\n",
       "    }\n",
       "\n",
       "    .dataframe thead th {\n",
       "        text-align: right;\n",
       "    }\n",
       "</style>\n",
       "<table border=\"1\" class=\"dataframe\">\n",
       "  <thead>\n",
       "    <tr style=\"text-align: right;\">\n",
       "      <th></th>\n",
       "      <th>Recency</th>\n",
       "      <th>Frequency</th>\n",
       "      <th>Monetary</th>\n",
       "    </tr>\n",
       "    <tr>\n",
       "      <th>Customer ID</th>\n",
       "      <th></th>\n",
       "      <th></th>\n",
       "      <th></th>\n",
       "    </tr>\n",
       "  </thead>\n",
       "  <tbody>\n",
       "    <tr>\n",
       "      <th>12347.0</th>\n",
       "      <td>2</td>\n",
       "      <td>140</td>\n",
       "      <td>2768.97</td>\n",
       "    </tr>\n",
       "    <tr>\n",
       "      <th>12348.0</th>\n",
       "      <td>248</td>\n",
       "      <td>1</td>\n",
       "      <td>17.00</td>\n",
       "    </tr>\n",
       "    <tr>\n",
       "      <th>12349.0</th>\n",
       "      <td>18</td>\n",
       "      <td>54</td>\n",
       "      <td>942.75</td>\n",
       "    </tr>\n",
       "  </tbody>\n",
       "</table>\n",
       "</div>"
      ],
      "text/plain": [
       "             Recency  Frequency  Monetary\n",
       "Customer ID                              \n",
       "12347.0            2        140   2768.97\n",
       "12348.0          248          1     17.00\n",
       "12349.0           18         54    942.75"
      ]
     },
     "execution_count": 269,
     "metadata": {},
     "output_type": "execute_result"
    }
   ],
   "source": [
    "RFM_Data.head(3)"
   ]
  },
  {
   "cell_type": "markdown",
   "metadata": {},
   "source": [
    "<p>Question: How do we interpret the numbers in the above table?</p>"
   ]
  },
  {
   "cell_type": "markdown",
   "metadata": {},
   "source": [
    "<p>Let's look at the first row.</p>\n",
    "<p>This customer has ordered one or more products from the retail store 2 days ago. This shows that this customer is likely to be coming back to the store for shopping more often. Also, he has shopped a total of 140 times. This also supports the assumption that this customer shops from the retail store regularly. Moreover, this customer has spent a total of more than 2700 pounds. On the other hand, the customer in the second row, has only shopped one time and that was done 248 days ago with only spending 17 pounds. A simple comparison shows customer \"12347.0\" is more loyal to the retail store than customer \"12348.0\"</p>"
   ]
  },
  {
   "cell_type": "markdown",
   "metadata": {},
   "source": [
    "<h2>Visualizing RFM Attributes</h2>\n",
    "\n",
    "<p>Now, let's find some patterns based on RFM attributes by visualizing the data. We can start with a scatter matrix, which show us the distribution of all data attributes and their plausible correlations.</p>"
   ]
  },
  {
   "cell_type": "code",
   "execution_count": 301,
   "metadata": {},
   "outputs": [
    {
     "data": {
      "text/plain": [
       "array([[<matplotlib.axes._subplots.AxesSubplot object at 0x0000020BDAE8BB38>,\n",
       "        <matplotlib.axes._subplots.AxesSubplot object at 0x0000020BE8653390>,\n",
       "        <matplotlib.axes._subplots.AxesSubplot object at 0x0000020BDF3E7278>],\n",
       "       [<matplotlib.axes._subplots.AxesSubplot object at 0x0000020BE868FB00>,\n",
       "        <matplotlib.axes._subplots.AxesSubplot object at 0x0000020BE8732FD0>,\n",
       "        <matplotlib.axes._subplots.AxesSubplot object at 0x0000020BDEA4BD30>],\n",
       "       [<matplotlib.axes._subplots.AxesSubplot object at 0x0000020BDF3A5978>,\n",
       "        <matplotlib.axes._subplots.AxesSubplot object at 0x0000020BDE9657F0>,\n",
       "        <matplotlib.axes._subplots.AxesSubplot object at 0x0000020BDE965780>]],\n",
       "      dtype=object)"
      ]
     },
     "execution_count": 301,
     "metadata": {},
     "output_type": "execute_result"
    },
    {
     "data": {
      "image/png": "[encoded data removed]",
      "text/plain": [
       "<Figure size 432x288 with 9 Axes>"
      ]
     },
     "metadata": {
      "needs_background": "light"
     },
     "output_type": "display_data"
    }
   ],
   "source": [
    "\n",
    "pd.plotting.scatter_matrix(RFM_Data, alpha=0.2)"
   ]
  },
  {
   "cell_type": "markdown",
   "metadata": {},
   "source": [
    "<p>Among the above visualizations, the one on top left is likely to give us some interesting insights. Let's look at it closely. </p>\n",
    "<p>That visualization is a histogram. So, we need to draw a histogram for Recency attribute.</p>"
   ]
  },
  {
   "cell_type": "code",
   "execution_count": 271,
   "metadata": {},
   "outputs": [
    {
     "data": {
      "text/plain": [
       "Text(0, 0.5, 'Number of Customers')"
      ]
     },
     "execution_count": 271,
     "metadata": {},
     "output_type": "execute_result"
    },
    {
     "data": {
      "image/png": "[encoded data removed]",
      "text/plain": [
       "<Figure size 432x288 with 1 Axes>"
      ]
     },
     "metadata": {},
     "output_type": "display_data"
    }
   ],
   "source": [
    "plt.hist(RFM_Data['Recency'], bins=15, edgecolor = 'black', alpha=0.8)\n",
    "plt.xlabel('Number of Days since the Last Purchase')\n",
    "plt.ylabel('Number of Customers')"
   ]
  },
  {
   "cell_type": "markdown",
   "metadata": {},
   "source": [
    "<h3>Exercise:</h3>\n",
    "<p>How can we interpret the information presented in this plot?</p>\n",
    "<p>Is there a way we can make this figure more informative and interesting?</p>"
   ]
  },
  {
   "cell_type": "code",
   "execution_count": 272,
   "metadata": {},
   "outputs": [
    {
     "data": {
      "image/png": "[encoded data removed]",
      "text/plain": [
       "<Figure size 432x288 with 1 Axes>"
      ]
     },
     "metadata": {},
     "output_type": "display_data"
    }
   ],
   "source": [
    "plt.hist(RFM_Data['Recency'], bins=15, edgecolor = 'black', alpha=0.8)\n",
    "plt.axvline(RFM_Data['Recency'].median(), color='red', linestyle='dashed', linewidth=1.5)\n",
    "plt.text(60, 1200, 'Median', color='red', fontsize=15)\n",
    "plt.xlabel('Number of Days since the Last Purchase')\n",
    "plt.ylabel('Number of Customers')\n",
    "plt.savefig('RecencyHistogram.png', dpi=300)"
   ]
  },
  {
   "cell_type": "markdown",
   "metadata": {},
   "source": [
    "<p>This plot is actually a useful piece of information that could be a part of the report. In other words, we can tell a good story based on this plot, and that will help front-line decision makers to design better targetting strategies.</p>"
   ]
  },
  {
   "cell_type": "markdown",
   "metadata": {},
   "source": [
    "<h3>Exercise</h3>\n",
    "\n",
    "<p>Now that you are familiar with RFM as a conceptual framework for analyzing data, you may redo the analysis on this data but with a focus on countries instead of customers. In the above example, we generated RFM parameters for each customer. This time, we want to generate those parameters for each country. Let's see whether you can find interesting insights. </p>"
   ]
  },
  {
   "cell_type": "code",
   "execution_count": 273,
   "metadata": {},
   "outputs": [],
   "source": [
    "RFM_Data_Countries = CleanData.groupby('Country').agg(Recency=('PurchaseInterval','min'), Frequency=('Sales','count'), Monetary=('Sales','sum'))"
   ]
  },
  {
   "cell_type": "markdown",
   "metadata": {},
   "source": [
    "<p>All right! Let's take a look at the newly generated data for RFM attributes.</p>"
   ]
  },
  {
   "cell_type": "code",
   "execution_count": 274,
   "metadata": {},
   "outputs": [
    {
     "data": {
      "text/html": [
       "<div>\n",
       "<style scoped>\n",
       "    .dataframe tbody tr th:only-of-type {\n",
       "        vertical-align: middle;\n",
       "    }\n",
       "\n",
       "    .dataframe tbody tr th {\n",
       "        vertical-align: top;\n",
       "    }\n",
       "\n",
       "    .dataframe thead th {\n",
       "        text-align: right;\n",
       "    }\n",
       "</style>\n",
       "<table border=\"1\" class=\"dataframe\">\n",
       "  <thead>\n",
       "    <tr style=\"text-align: right;\">\n",
       "      <th></th>\n",
       "      <th>Recency</th>\n",
       "      <th>Frequency</th>\n",
       "      <th>Monetary</th>\n",
       "    </tr>\n",
       "    <tr>\n",
       "      <th>Country</th>\n",
       "      <th></th>\n",
       "      <th></th>\n",
       "      <th></th>\n",
       "    </tr>\n",
       "  </thead>\n",
       "  <tbody>\n",
       "    <tr>\n",
       "      <th>Australia</th>\n",
       "      <td>15</td>\n",
       "      <td>415</td>\n",
       "      <td>7873.57</td>\n",
       "    </tr>\n",
       "    <tr>\n",
       "      <th>Austria</th>\n",
       "      <td>1</td>\n",
       "      <td>303</td>\n",
       "      <td>5512.39</td>\n",
       "    </tr>\n",
       "    <tr>\n",
       "      <th>Bahrain</th>\n",
       "      <td>204</td>\n",
       "      <td>10</td>\n",
       "      <td>218.30</td>\n",
       "    </tr>\n",
       "  </tbody>\n",
       "</table>\n",
       "</div>"
      ],
      "text/plain": [
       "           Recency  Frequency  Monetary\n",
       "Country                                \n",
       "Australia       15        415   7873.57\n",
       "Austria          1        303   5512.39\n",
       "Bahrain        204         10    218.30"
      ]
     },
     "execution_count": 274,
     "metadata": {},
     "output_type": "execute_result"
    }
   ],
   "source": [
    "RFM_Data_Countries.head(3)"
   ]
  },
  {
   "cell_type": "markdown",
   "metadata": {},
   "source": [
    "<p>Question: How can we interpret the RFM attributes for different countries?</p>"
   ]
  },
  {
   "cell_type": "markdown",
   "metadata": {},
   "source": [
    "<p>Let's look at Austria and Bahrain:</p>\n",
    "<p>Austrian customers have ordered one or more products from the retail store 1 days ago. Also, they have shopped a total of 370 times with a total value of more than 5500 pounds. On the other hand, the Bahraini customers, has only shopped 10 times and their last purchase was done 204 days. Bahraini customers have generated a total revenue of nearly 220 pounds. A simple comparison shows Austria is a more important market for the retail store compared to Bahrain.</p>"
   ]
  },
  {
   "cell_type": "markdown",
   "metadata": {},
   "source": [
    "<p>Now, let's rank the countries based on Monetary and Frequency attributes and look at the top 10 of them. Perhaps, a bar plot could be a good option to show such information.</p>"
   ]
  },
  {
   "cell_type": "code",
   "execution_count": 284,
   "metadata": {},
   "outputs": [
    {
     "data": {
      "image/png": "[encoded data removed]",
      "text/plain": [
       "<Figure size 432x288 with 1 Axes>"
      ]
     },
     "metadata": {},
     "output_type": "display_data"
    }
   ],
   "source": [
    "Sorted_Countries_data = RFM_Data_Countries.sort_values(['Monetary','Frequency'] , ascending=[False,False])\n",
    "F_values_2 = Sorted_Countries_data.iloc[:10,1]\n",
    "M_values_2 = Sorted_Countries_data.iloc[:10,2]\n",
    "\n",
    "bar_width = 0.4\n",
    "r1 = np.arange(len(F_values_2))\n",
    "r2 = [x + bar_width for x in r1]\n",
    "\n",
    "plt.bar(r1, M_values_2, width = bar_width, color = 'blue', edgecolor = 'black', capsize=7, label='Monetary')\n",
    "plt.bar(r2, F_values_2, width = bar_width, color = 'cyan', edgecolor = 'black', capsize=7, label='Frequency')\n",
    "\n",
    "plt.xticks([r + bar_width for r in range(len(F_values_2))], Sorted_Countries_data.index, rotation='70')\n",
    "plt.legend()\n",
    "plt.show()"
   ]
  },
  {
   "cell_type": "markdown",
   "metadata": {},
   "source": [
    "<p>Since the retail store is based in the UK, a big part of the observations is related to the UK. Presenting this chart as a part of the story is not really adequate. Because the chart is dominated by one country and the presented information for other countries are useless. </p>\n",
    "<p>Let's suppose we want to focus on the international market. That could be a better story to tell. Thus, we repeat the above visualization after exclusion of the UK from the analysis.</p>"
   ]
  },
  {
   "cell_type": "markdown",
   "metadata": {},
   "source": [
    "<h3>Exercise:</h3>\n",
    "<p>How can we change the presentation of information in the above plot for the international market?</p>\n",
    "<p>The first step is to only keep foreign countries. You may try to do that now.</p>"
   ]
  },
  {
   "cell_type": "code",
   "execution_count": null,
   "metadata": {},
   "outputs": [],
   "source": [
    "Sorted_Countries_data = Sorted_Countries_data.iloc[1:,]                 #erasing the record related to the United Kingdom"
   ]
  },
  {
   "cell_type": "markdown",
   "metadata": {},
   "source": [
    "<p>Now, we should calculate the Monetary ratio for each foreign country and prepare the information for visualization.</p>"
   ]
  },
  {
   "cell_type": "code",
   "execution_count": 285,
   "metadata": {},
   "outputs": [
    {
     "data": {
      "text/html": [
       "<div>\n",
       "<style scoped>\n",
       "    .dataframe tbody tr th:only-of-type {\n",
       "        vertical-align: middle;\n",
       "    }\n",
       "\n",
       "    .dataframe tbody tr th {\n",
       "        vertical-align: top;\n",
       "    }\n",
       "\n",
       "    .dataframe thead th {\n",
       "        text-align: right;\n",
       "    }\n",
       "</style>\n",
       "<table border=\"1\" class=\"dataframe\">\n",
       "  <thead>\n",
       "    <tr style=\"text-align: right;\">\n",
       "      <th></th>\n",
       "      <th>Recency</th>\n",
       "      <th>Frequency</th>\n",
       "      <th>Monetary</th>\n",
       "      <th>MonetaryRatio</th>\n",
       "      <th>Country</th>\n",
       "    </tr>\n",
       "    <tr>\n",
       "      <th>Country</th>\n",
       "      <th></th>\n",
       "      <th></th>\n",
       "      <th></th>\n",
       "      <th></th>\n",
       "      <th></th>\n",
       "    </tr>\n",
       "  </thead>\n",
       "  <tbody>\n",
       "    <tr>\n",
       "      <th>Germany</th>\n",
       "      <td>0</td>\n",
       "      <td>6390</td>\n",
       "      <td>113098.70</td>\n",
       "      <td>23.26</td>\n",
       "      <td>Germany</td>\n",
       "    </tr>\n",
       "    <tr>\n",
       "      <th>France</th>\n",
       "      <td>0</td>\n",
       "      <td>5940</td>\n",
       "      <td>97552.48</td>\n",
       "      <td>20.06</td>\n",
       "      <td>France</td>\n",
       "    </tr>\n",
       "    <tr>\n",
       "      <th>EIRE</th>\n",
       "      <td>1</td>\n",
       "      <td>4589</td>\n",
       "      <td>82722.99</td>\n",
       "      <td>17.01</td>\n",
       "      <td>EIRE</td>\n",
       "    </tr>\n",
       "    <tr>\n",
       "      <th>Spain</th>\n",
       "      <td>2</td>\n",
       "      <td>1783</td>\n",
       "      <td>24716.91</td>\n",
       "      <td>5.08</td>\n",
       "      <td>Spain</td>\n",
       "    </tr>\n",
       "    <tr>\n",
       "      <th>Belgium</th>\n",
       "      <td>0</td>\n",
       "      <td>1465</td>\n",
       "      <td>24662.44</td>\n",
       "      <td>5.07</td>\n",
       "      <td>Belgium</td>\n",
       "    </tr>\n",
       "  </tbody>\n",
       "</table>\n",
       "</div>"
      ],
      "text/plain": [
       "         Recency  Frequency   Monetary  MonetaryRatio  Country\n",
       "Country                                                       \n",
       "Germany        0       6390  113098.70          23.26  Germany\n",
       "France         0       5940   97552.48          20.06   France\n",
       "EIRE           1       4589   82722.99          17.01     EIRE\n",
       "Spain          2       1783   24716.91           5.08    Spain\n",
       "Belgium        0       1465   24662.44           5.07  Belgium"
      ]
     },
     "execution_count": 285,
     "metadata": {},
     "output_type": "execute_result"
    }
   ],
   "source": [
    "Sorted_Countries_data['MonetaryRatio'] = round(Sorted_Countries_data['Monetary']/sum(Sorted_Countries_data['Monetary'])*100,2)          #calculating the Monetary ratio for each foreign country\n",
    "Sorted_Countries_data['Country'] = Sorted_Countries_data.index          #Creating a new column with country names\n",
    "Sorted_Countries_data.head(5)"
   ]
  },
  {
   "cell_type": "code",
   "execution_count": 306,
   "metadata": {},
   "outputs": [],
   "source": [
    "PieData = Sorted_Countries_data.iloc[:5,[3,4]]\n",
    "OthersRatio = round(100 - sum(Sorted_Countries_data.head(5)['MonetaryRatio']),2)\n",
    "PieData = PieData.append({'Country':'Others','MonetaryRatio': OthersRatio}, ignore_index=True)"
   ]
  },
  {
   "cell_type": "markdown",
   "metadata": {},
   "source": [
    "<p>Now, let's draw a pie chart to present the top 5 countries along with others with their market share.</p>"
   ]
  },
  {
   "cell_type": "code",
   "execution_count": 312,
   "metadata": {},
   "outputs": [
    {
     "data": {
      "image/png": "[encoded data removed]",
      "text/plain": [
       "<Figure size 432x288 with 1 Axes>"
      ]
     },
     "metadata": {},
     "output_type": "display_data"
    }
   ],
   "source": [
    "figureObject, axesObject = plt.subplots()\n",
    "axesObject.pie(PieData['MonetaryRatio'], \n",
    "        labels=PieData['Country'],         #shows the country names next to each slice\n",
    "        autopct='%1.2f')                   #shows the percentages on each slice\n",
    "figureObject.savefig('PieChart.png', dpi=300)"
   ]
  },
  {
   "cell_type": "markdown",
   "metadata": {},
   "source": [
    "<p>As we can see in the above bar chart, Germany is the largest international market followed by France and Ireland. Such information could be useful for developing marketing strategies. This pie chart is a good way of adding to the story. By presenting this pie chart to the frontline decision makers, we can help them improve their targetting strategies.</p>"
   ]
  }
 ],
 "metadata": {
  "kernelspec": {
   "display_name": "Python 3",
   "language": "python",
   "name": "python3"
  },
  "language_info": {
   "codemirror_mode": {
    "name": "ipython",
    "version": 3
   },
   "file_extension": ".py",
   "mimetype": "text/x-python",
   "name": "python",
   "nbconvert_exporter": "python",
   "pygments_lexer": "ipython3",
   "version": "3.7.3"
  }
 },
 "nbformat": 4,
 "nbformat_minor": 4
}

